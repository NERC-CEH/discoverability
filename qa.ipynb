{
 "cells": [
  {
   "cell_type": "code",
   "execution_count": 1,
   "metadata": {},
   "outputs": [
    {
     "data": {
      "text/html": [
       "<div>\n",
       "<style scoped>\n",
       "    .dataframe tbody tr th:only-of-type {\n",
       "        vertical-align: middle;\n",
       "    }\n",
       "\n",
       "    .dataframe tbody tr th {\n",
       "        vertical-align: top;\n",
       "    }\n",
       "\n",
       "    .dataframe thead th {\n",
       "        text-align: right;\n",
       "    }\n",
       "</style>\n",
       "<table border=\"1\" class=\"dataframe\">\n",
       "  <thead>\n",
       "    <tr style=\"text-align: right;\">\n",
       "      <th></th>\n",
       "      <th>title</th>\n",
       "      <th>description</th>\n",
       "      <th>lineage</th>\n",
       "    </tr>\n",
       "  </thead>\n",
       "  <tbody>\n",
       "    <tr>\n",
       "      <th>0</th>\n",
       "      <td>Land Cover Map 2007 (25m raster, NI)</td>\n",
       "      <td>LCM2007 is a parcel-based thematic classificat...</td>\n",
       "      <td>LCM2007 uses a spatial framework based on OSNI...</td>\n",
       "    </tr>\n",
       "    <tr>\n",
       "      <th>1</th>\n",
       "      <td>Land Cover Map 2021 (25m rasterised land parce...</td>\n",
       "      <td>This is a 25m pixel data set representing the ...</td>\n",
       "      <td>UKCEH’s automated land cover algorithms classi...</td>\n",
       "    </tr>\n",
       "    <tr>\n",
       "      <th>2</th>\n",
       "      <td>Land Cover Map 2000 (vector, GB)</td>\n",
       "      <td>This dataset consists of the vector version of...</td>\n",
       "      <td>In a major development of earlier methods, LCM...</td>\n",
       "    </tr>\n",
       "    <tr>\n",
       "      <th>3</th>\n",
       "      <td>Land Cover Map 2021 (10m classified pixels, N....</td>\n",
       "      <td>This is a 10m pixel data set representing the ...</td>\n",
       "      <td>UKCEH’s automated land cover algorithms classi...</td>\n",
       "    </tr>\n",
       "    <tr>\n",
       "      <th>4</th>\n",
       "      <td>Telomere length data from a wild population of...</td>\n",
       "      <td>These data consist of relative telomere length...</td>\n",
       "      <td>Blood samples (~25 μl) were collected and stor...</td>\n",
       "    </tr>\n",
       "    <tr>\n",
       "      <th>...</th>\n",
       "      <td>...</td>\n",
       "      <td>...</td>\n",
       "      <td>...</td>\n",
       "    </tr>\n",
       "    <tr>\n",
       "      <th>1862</th>\n",
       "      <td>Potential evapotranspiration derived from HadU...</td>\n",
       "      <td>Gridded potential evapotranspiration calculate...</td>\n",
       "      <td>This dataset was derived from the HadUK-Grid g...</td>\n",
       "    </tr>\n",
       "    <tr>\n",
       "      <th>1863</th>\n",
       "      <td>Fine root production in human-modified forests...</td>\n",
       "      <td>This dataset includes measurements of soil res...</td>\n",
       "      <td>We assessed roots production in 20 study plots...</td>\n",
       "    </tr>\n",
       "    <tr>\n",
       "      <th>1864</th>\n",
       "      <td>Nitrous oxide fluxes and associated soil measu...</td>\n",
       "      <td>This data set includes over 500 individual flu...</td>\n",
       "      <td>Flux measurements were made using a high-preci...</td>\n",
       "    </tr>\n",
       "    <tr>\n",
       "      <th>1865</th>\n",
       "      <td>A land use map of Peninsular Malaysia for the ...</td>\n",
       "      <td>Gridded land use map of Peninsular Malaysia wi...</td>\n",
       "      <td>The land use is based on detailed polygon land...</td>\n",
       "    </tr>\n",
       "    <tr>\n",
       "      <th>1866</th>\n",
       "      <td>High resolution water quality and flow monitor...</td>\n",
       "      <td>This data set comprises of hourly water qualit...</td>\n",
       "      <td>Water quality and flow data from the Bow Brook...</td>\n",
       "    </tr>\n",
       "  </tbody>\n",
       "</table>\n",
       "<p>1867 rows × 3 columns</p>\n",
       "</div>"
      ],
      "text/plain": [
       "                                                  title  \\\n",
       "0                  Land Cover Map 2007 (25m raster, NI)   \n",
       "1     Land Cover Map 2021 (25m rasterised land parce...   \n",
       "2                      Land Cover Map 2000 (vector, GB)   \n",
       "3     Land Cover Map 2021 (10m classified pixels, N....   \n",
       "4     Telomere length data from a wild population of...   \n",
       "...                                                 ...   \n",
       "1862  Potential evapotranspiration derived from HadU...   \n",
       "1863  Fine root production in human-modified forests...   \n",
       "1864  Nitrous oxide fluxes and associated soil measu...   \n",
       "1865  A land use map of Peninsular Malaysia for the ...   \n",
       "1866  High resolution water quality and flow monitor...   \n",
       "\n",
       "                                            description  \\\n",
       "0     LCM2007 is a parcel-based thematic classificat...   \n",
       "1     This is a 25m pixel data set representing the ...   \n",
       "2     This dataset consists of the vector version of...   \n",
       "3     This is a 10m pixel data set representing the ...   \n",
       "4     These data consist of relative telomere length...   \n",
       "...                                                 ...   \n",
       "1862  Gridded potential evapotranspiration calculate...   \n",
       "1863  This dataset includes measurements of soil res...   \n",
       "1864  This data set includes over 500 individual flu...   \n",
       "1865  Gridded land use map of Peninsular Malaysia wi...   \n",
       "1866  This data set comprises of hourly water qualit...   \n",
       "\n",
       "                                                lineage  \n",
       "0     LCM2007 uses a spatial framework based on OSNI...  \n",
       "1     UKCEH’s automated land cover algorithms classi...  \n",
       "2     In a major development of earlier methods, LCM...  \n",
       "3     UKCEH’s automated land cover algorithms classi...  \n",
       "4     Blood samples (~25 μl) were collected and stor...  \n",
       "...                                                 ...  \n",
       "1862  This dataset was derived from the HadUK-Grid g...  \n",
       "1863  We assessed roots production in 20 study plots...  \n",
       "1864  Flux measurements were made using a high-preci...  \n",
       "1865  The land use is based on detailed polygon land...  \n",
       "1866  Water quality and flow data from the Bow Brook...  \n",
       "\n",
       "[1867 rows x 3 columns]"
      ]
     },
     "execution_count": 1,
     "metadata": {},
     "output_type": "execute_result"
    }
   ],
   "source": [
    "from util import load_eidc_data as eidc\n",
    "\n",
    "df = eidc.load_as_df('data/catalogue_metadata.json')\n",
    "df"
   ]
  },
  {
   "cell_type": "code",
   "execution_count": 34,
   "metadata": {},
   "outputs": [
    {
     "name": "stderr",
     "output_type": "stream",
     "text": [
      "Some weights of the model checkpoint at deepset/minilm-uncased-squad2 were not used when initializing BertForQuestionAnswering: ['bert.pooler.dense.bias', 'bert.pooler.dense.weight']\n",
      "- This IS expected if you are initializing BertForQuestionAnswering from the checkpoint of a model trained on another task or with another architecture (e.g. initializing a BertForSequenceClassification model from a BertForPreTraining model).\n",
      "- This IS NOT expected if you are initializing BertForQuestionAnswering from the checkpoint of a model that you expect to be exactly identical (initializing a BertForSequenceClassification model from a BertForSequenceClassification model).\n"
     ]
    }
   ],
   "source": [
    "from transformers import pipeline\n",
    "\n",
    "model_names = ['deepset/roberta-base-squad2', 'distilbert/distilbert-base-cased-distilled-squad', 'deepset/minilm-uncased-squad2']\n",
    "qa_pipes = {}\n",
    "for model_name in model_names:\n",
    "    qa_pipes[model_name] = pipeline('question-answering', model=model_name)"
   ]
  },
  {
   "cell_type": "code",
   "execution_count": 35,
   "metadata": {},
   "outputs": [
    {
     "data": {
      "text/plain": [
       "'This dataset contains locations of worker bumblebees of five species (Bombus terrestris, B. lapidarius, B. pascuorum, B. hortorum, B. ruderatus) across an agricultural landscape centred on the Hillesden Estate, Buckinghamshire, UK. Locations were recorded in the field using a handheld GPS unit. Workers were non-lethally DNA sampled between June and August 2011, and genetic analysis used to confirm species and assign individuals to full-sib groups (colonies). Data were collected as part of a project led by the Centre for Ecology & Hydrology, funded under the Insect Pollinators Initiative.'"
      ]
     },
     "execution_count": 35,
     "metadata": {},
     "output_type": "execute_result"
    }
   ],
   "source": [
    "dataset = df.loc[df['title'] == 'Location data of worker bumblebees across an agricultural landscape in Buckinghamshire, UK']\n",
    "context = dataset.iloc[0]['description']\n",
    "context"
   ]
  },
  {
   "cell_type": "code",
   "execution_count": 36,
   "metadata": {},
   "outputs": [
    {
     "name": "stdout",
     "output_type": "stream",
     "text": [
      "How was DNA sampling performed?\n",
      "{'score': 0.12974794209003448, 'start': 309, 'end': 321, 'answer': 'non-lethally'}\n",
      "{'score': 0.25504252314567566, 'start': 277, 'end': 294, 'answer': 'handheld GPS unit'}\n",
      "{'score': 0.8052693605422974, 'start': 309, 'end': 321, 'answer': 'non-lethally'}\n",
      "Who funded the project?\n",
      "{'score': 0.2713090181350708, 'start': 515, 'end': 545, 'answer': 'Centre for Ecology & Hydrology'}\n",
      "{'score': 0.20751163363456726, 'start': 564, 'end': 593, 'answer': 'Insect Pollinators Initiative'}\n",
      "{'score': 0.6175491213798523, 'start': 564, 'end': 593, 'answer': 'Insect Pollinators Initiative'}\n",
      "Where was the data gathered?\n",
      "{'score': 0.16213250160217285, 'start': 193, 'end': 230, 'answer': 'Hillesden Estate, Buckinghamshire, UK'}\n",
      "{'score': 0.544015109539032, 'start': 193, 'end': 230, 'answer': 'Hillesden Estate, Buckinghamshire, UK'}\n",
      "{'score': 0.24066263437271118, 'start': 193, 'end': 230, 'answer': 'Hillesden Estate, Buckinghamshire, UK'}\n"
     ]
    }
   ],
   "source": [
    "questions = ['How was DNA sampling performed?', 'Who funded the project?', 'Where was the data gathered?']\n",
    "for q in questions:\n",
    "    print(q)\n",
    "    for model_name in model_names:\n",
    "        print(model_name)\n",
    "        ans = qa_pipes[model_name](q, context)\n",
    "        print(ans)"
   ]
  }
 ],
 "metadata": {
  "kernelspec": {
   "display_name": ".venv",
   "language": "python",
   "name": "python3"
  },
  "language_info": {
   "codemirror_mode": {
    "name": "ipython",
    "version": 3
   },
   "file_extension": ".py",
   "mimetype": "text/x-python",
   "name": "python",
   "nbconvert_exporter": "python",
   "pygments_lexer": "ipython3",
   "version": "3.12.3"
  }
 },
 "nbformat": 4,
 "nbformat_minor": 2
}

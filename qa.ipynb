{
 "cells": [
  {
   "cell_type": "code",
   "execution_count": 5,
   "metadata": {},
   "outputs": [
    {
     "data": {
      "text/html": [
       "<div>\n",
       "<style scoped>\n",
       "    .dataframe tbody tr th:only-of-type {\n",
       "        vertical-align: middle;\n",
       "    }\n",
       "\n",
       "    .dataframe tbody tr th {\n",
       "        vertical-align: top;\n",
       "    }\n",
       "\n",
       "    .dataframe thead th {\n",
       "        text-align: right;\n",
       "    }\n",
       "</style>\n",
       "<table border=\"1\" class=\"dataframe\">\n",
       "  <thead>\n",
       "    <tr style=\"text-align: right;\">\n",
       "      <th></th>\n",
       "      <th>title</th>\n",
       "      <th>description</th>\n",
       "      <th>lineage</th>\n",
       "    </tr>\n",
       "  </thead>\n",
       "  <tbody>\n",
       "    <tr>\n",
       "      <th>0</th>\n",
       "      <td>Land Cover Map 2007 (25m raster, NI)</td>\n",
       "      <td>LCM2007 is a parcel-based thematic classificat...</td>\n",
       "      <td>LCM2007 uses a spatial framework based on OSNI...</td>\n",
       "    </tr>\n",
       "    <tr>\n",
       "      <th>1</th>\n",
       "      <td>Land Cover Map 2021 (25m rasterised land parce...</td>\n",
       "      <td>This is a 25m pixel data set representing the ...</td>\n",
       "      <td>UKCEH’s automated land cover algorithms classi...</td>\n",
       "    </tr>\n",
       "    <tr>\n",
       "      <th>2</th>\n",
       "      <td>Land Cover Map 2000 (vector, GB)</td>\n",
       "      <td>This dataset consists of the vector version of...</td>\n",
       "      <td>In a major development of earlier methods, LCM...</td>\n",
       "    </tr>\n",
       "    <tr>\n",
       "      <th>3</th>\n",
       "      <td>Land Cover Map 2021 (10m classified pixels, N....</td>\n",
       "      <td>This is a 10m pixel data set representing the ...</td>\n",
       "      <td>UKCEH’s automated land cover algorithms classi...</td>\n",
       "    </tr>\n",
       "    <tr>\n",
       "      <th>4</th>\n",
       "      <td>Telomere length data from a wild population of...</td>\n",
       "      <td>These data consist of relative telomere length...</td>\n",
       "      <td>Blood samples (~25 μl) were collected and stor...</td>\n",
       "    </tr>\n",
       "    <tr>\n",
       "      <th>...</th>\n",
       "      <td>...</td>\n",
       "      <td>...</td>\n",
       "      <td>...</td>\n",
       "    </tr>\n",
       "    <tr>\n",
       "      <th>1862</th>\n",
       "      <td>Potential evapotranspiration derived from HadU...</td>\n",
       "      <td>Gridded potential evapotranspiration calculate...</td>\n",
       "      <td>This dataset was derived from the HadUK-Grid g...</td>\n",
       "    </tr>\n",
       "    <tr>\n",
       "      <th>1863</th>\n",
       "      <td>Fine root production in human-modified forests...</td>\n",
       "      <td>This dataset includes measurements of soil res...</td>\n",
       "      <td>We assessed roots production in 20 study plots...</td>\n",
       "    </tr>\n",
       "    <tr>\n",
       "      <th>1864</th>\n",
       "      <td>Nitrous oxide fluxes and associated soil measu...</td>\n",
       "      <td>This data set includes over 500 individual flu...</td>\n",
       "      <td>Flux measurements were made using a high-preci...</td>\n",
       "    </tr>\n",
       "    <tr>\n",
       "      <th>1865</th>\n",
       "      <td>A land use map of Peninsular Malaysia for the ...</td>\n",
       "      <td>Gridded land use map of Peninsular Malaysia wi...</td>\n",
       "      <td>The land use is based on detailed polygon land...</td>\n",
       "    </tr>\n",
       "    <tr>\n",
       "      <th>1866</th>\n",
       "      <td>High resolution water quality and flow monitor...</td>\n",
       "      <td>This data set comprises of hourly water qualit...</td>\n",
       "      <td>Water quality and flow data from the Bow Brook...</td>\n",
       "    </tr>\n",
       "  </tbody>\n",
       "</table>\n",
       "<p>1867 rows × 3 columns</p>\n",
       "</div>"
      ],
      "text/plain": [
       "                                                  title  \\\n",
       "0                  Land Cover Map 2007 (25m raster, NI)   \n",
       "1     Land Cover Map 2021 (25m rasterised land parce...   \n",
       "2                      Land Cover Map 2000 (vector, GB)   \n",
       "3     Land Cover Map 2021 (10m classified pixels, N....   \n",
       "4     Telomere length data from a wild population of...   \n",
       "...                                                 ...   \n",
       "1862  Potential evapotranspiration derived from HadU...   \n",
       "1863  Fine root production in human-modified forests...   \n",
       "1864  Nitrous oxide fluxes and associated soil measu...   \n",
       "1865  A land use map of Peninsular Malaysia for the ...   \n",
       "1866  High resolution water quality and flow monitor...   \n",
       "\n",
       "                                            description  \\\n",
       "0     LCM2007 is a parcel-based thematic classificat...   \n",
       "1     This is a 25m pixel data set representing the ...   \n",
       "2     This dataset consists of the vector version of...   \n",
       "3     This is a 10m pixel data set representing the ...   \n",
       "4     These data consist of relative telomere length...   \n",
       "...                                                 ...   \n",
       "1862  Gridded potential evapotranspiration calculate...   \n",
       "1863  This dataset includes measurements of soil res...   \n",
       "1864  This data set includes over 500 individual flu...   \n",
       "1865  Gridded land use map of Peninsular Malaysia wi...   \n",
       "1866  This data set comprises of hourly water qualit...   \n",
       "\n",
       "                                                lineage  \n",
       "0     LCM2007 uses a spatial framework based on OSNI...  \n",
       "1     UKCEH’s automated land cover algorithms classi...  \n",
       "2     In a major development of earlier methods, LCM...  \n",
       "3     UKCEH’s automated land cover algorithms classi...  \n",
       "4     Blood samples (~25 μl) were collected and stor...  \n",
       "...                                                 ...  \n",
       "1862  This dataset was derived from the HadUK-Grid g...  \n",
       "1863  We assessed roots production in 20 study plots...  \n",
       "1864  Flux measurements were made using a high-preci...  \n",
       "1865  The land use is based on detailed polygon land...  \n",
       "1866  Water quality and flow data from the Bow Brook...  \n",
       "\n",
       "[1867 rows x 3 columns]"
      ]
     },
     "execution_count": 5,
     "metadata": {},
     "output_type": "execute_result"
    }
   ],
   "source": [
    "from util import load_eidc_data as eidc\n",
    "\n",
    "df = eidc.load_as_df('data/catalogue_metadata.json')\n",
    "df"
   ]
  },
  {
   "cell_type": "code",
   "execution_count": 6,
   "metadata": {},
   "outputs": [
    {
     "data": {
      "application/vnd.jupyter.widget-view+json": {
       "model_id": "903ed5d74fa24feab3c398de582957af",
       "version_major": 2,
       "version_minor": 0
      },
      "text/plain": [
       "config.json:   0%|          | 0.00/571 [00:00<?, ?B/s]"
      ]
     },
     "metadata": {},
     "output_type": "display_data"
    },
    {
     "data": {
      "application/vnd.jupyter.widget-view+json": {
       "model_id": "89b841f26f8e45368f4ff1cc72b8715a",
       "version_major": 2,
       "version_minor": 0
      },
      "text/plain": [
       "model.safetensors:   0%|          | 0.00/496M [00:00<?, ?B/s]"
      ]
     },
     "metadata": {},
     "output_type": "display_data"
    },
    {
     "data": {
      "application/vnd.jupyter.widget-view+json": {
       "model_id": "fe6d17fa6c2f49c4b118f8ab0988bdb1",
       "version_major": 2,
       "version_minor": 0
      },
      "text/plain": [
       "tokenizer_config.json:   0%|          | 0.00/79.0 [00:00<?, ?B/s]"
      ]
     },
     "metadata": {},
     "output_type": "display_data"
    },
    {
     "data": {
      "application/vnd.jupyter.widget-view+json": {
       "model_id": "fdb4443da66c42f8bfa9e0c0cd9a953a",
       "version_major": 2,
       "version_minor": 0
      },
      "text/plain": [
       "vocab.json:   0%|          | 0.00/899k [00:00<?, ?B/s]"
      ]
     },
     "metadata": {},
     "output_type": "display_data"
    },
    {
     "data": {
      "application/vnd.jupyter.widget-view+json": {
       "model_id": "48ef6714e0e74c4e9f7cc9eb381cfe24",
       "version_major": 2,
       "version_minor": 0
      },
      "text/plain": [
       "merges.txt:   0%|          | 0.00/456k [00:00<?, ?B/s]"
      ]
     },
     "metadata": {},
     "output_type": "display_data"
    },
    {
     "data": {
      "application/vnd.jupyter.widget-view+json": {
       "model_id": "5e14204e30664de998c4b592e8dbe245",
       "version_major": 2,
       "version_minor": 0
      },
      "text/plain": [
       "special_tokens_map.json:   0%|          | 0.00/772 [00:00<?, ?B/s]"
      ]
     },
     "metadata": {},
     "output_type": "display_data"
    },
    {
     "data": {
      "application/vnd.jupyter.widget-view+json": {
       "model_id": "9ab03d2e8bd7418199bb72513e2eb7fb",
       "version_major": 2,
       "version_minor": 0
      },
      "text/plain": [
       "config.json:   0%|          | 0.00/473 [00:00<?, ?B/s]"
      ]
     },
     "metadata": {},
     "output_type": "display_data"
    },
    {
     "data": {
      "application/vnd.jupyter.widget-view+json": {
       "model_id": "bffbb2909fca4ecbb0985904f017eddb",
       "version_major": 2,
       "version_minor": 0
      },
      "text/plain": [
       "model.safetensors:   0%|          | 0.00/261M [00:00<?, ?B/s]"
      ]
     },
     "metadata": {},
     "output_type": "display_data"
    },
    {
     "data": {
      "application/vnd.jupyter.widget-view+json": {
       "model_id": "633eb806c7ee48dc923c64f3a4cf99e6",
       "version_major": 2,
       "version_minor": 0
      },
      "text/plain": [
       "tokenizer_config.json:   0%|          | 0.00/49.0 [00:00<?, ?B/s]"
      ]
     },
     "metadata": {},
     "output_type": "display_data"
    },
    {
     "data": {
      "application/vnd.jupyter.widget-view+json": {
       "model_id": "02e0639a5dd64581ac0cbf05ad9ea049",
       "version_major": 2,
       "version_minor": 0
      },
      "text/plain": [
       "vocab.txt:   0%|          | 0.00/213k [00:00<?, ?B/s]"
      ]
     },
     "metadata": {},
     "output_type": "display_data"
    },
    {
     "data": {
      "application/vnd.jupyter.widget-view+json": {
       "model_id": "521eed58a9df4c23b211e600b4455866",
       "version_major": 2,
       "version_minor": 0
      },
      "text/plain": [
       "tokenizer.json:   0%|          | 0.00/436k [00:00<?, ?B/s]"
      ]
     },
     "metadata": {},
     "output_type": "display_data"
    },
    {
     "data": {
      "application/vnd.jupyter.widget-view+json": {
       "model_id": "a44282a169d24f13a10badab515142e8",
       "version_major": 2,
       "version_minor": 0
      },
      "text/plain": [
       "config.json:   0%|          | 0.00/477 [00:00<?, ?B/s]"
      ]
     },
     "metadata": {},
     "output_type": "display_data"
    },
    {
     "data": {
      "application/vnd.jupyter.widget-view+json": {
       "model_id": "8f30a08468cc4265ba3154c7576aa422",
       "version_major": 2,
       "version_minor": 0
      },
      "text/plain": [
       "model.safetensors:   0%|          | 0.00/133M [00:00<?, ?B/s]"
      ]
     },
     "metadata": {},
     "output_type": "display_data"
    },
    {
     "name": "stderr",
     "output_type": "stream",
     "text": [
      "Some weights of the model checkpoint at deepset/minilm-uncased-squad2 were not used when initializing BertForQuestionAnswering: ['bert.pooler.dense.bias', 'bert.pooler.dense.weight']\n",
      "- This IS expected if you are initializing BertForQuestionAnswering from the checkpoint of a model trained on another task or with another architecture (e.g. initializing a BertForSequenceClassification model from a BertForPreTraining model).\n",
      "- This IS NOT expected if you are initializing BertForQuestionAnswering from the checkpoint of a model that you expect to be exactly identical (initializing a BertForSequenceClassification model from a BertForSequenceClassification model).\n"
     ]
    },
    {
     "data": {
      "application/vnd.jupyter.widget-view+json": {
       "model_id": "95be8920479e4ad0aa8a0d6616a429da",
       "version_major": 2,
       "version_minor": 0
      },
      "text/plain": [
       "tokenizer_config.json:   0%|          | 0.00/107 [00:00<?, ?B/s]"
      ]
     },
     "metadata": {},
     "output_type": "display_data"
    },
    {
     "data": {
      "application/vnd.jupyter.widget-view+json": {
       "model_id": "ee1c48563a724aeb911f2f003e7cd3da",
       "version_major": 2,
       "version_minor": 0
      },
      "text/plain": [
       "vocab.txt:   0%|          | 0.00/232k [00:00<?, ?B/s]"
      ]
     },
     "metadata": {},
     "output_type": "display_data"
    },
    {
     "data": {
      "application/vnd.jupyter.widget-view+json": {
       "model_id": "b5b2eeb649394e35b2e7a8ae7aa57f93",
       "version_major": 2,
       "version_minor": 0
      },
      "text/plain": [
       "special_tokens_map.json:   0%|          | 0.00/112 [00:00<?, ?B/s]"
      ]
     },
     "metadata": {},
     "output_type": "display_data"
    },
    {
     "data": {
      "application/vnd.jupyter.widget-view+json": {
       "model_id": "d21d311ca0004307ba89e8c778c0745b",
       "version_major": 2,
       "version_minor": 0
      },
      "text/plain": [
       "config.json:   0%|          | 0.00/508 [00:00<?, ?B/s]"
      ]
     },
     "metadata": {},
     "output_type": "display_data"
    },
    {
     "data": {
      "application/vnd.jupyter.widget-view+json": {
       "model_id": "a7952cd8be074c15a41f9fde983e72ef",
       "version_major": 2,
       "version_minor": 0
      },
      "text/plain": [
       "model.safetensors:   0%|          | 0.00/433M [00:00<?, ?B/s]"
      ]
     },
     "metadata": {},
     "output_type": "display_data"
    },
    {
     "name": "stderr",
     "output_type": "stream",
     "text": [
      "Some weights of the model checkpoint at deepset/bert-base-cased-squad2 were not used when initializing BertForQuestionAnswering: ['bert.pooler.dense.bias', 'bert.pooler.dense.weight']\n",
      "- This IS expected if you are initializing BertForQuestionAnswering from the checkpoint of a model trained on another task or with another architecture (e.g. initializing a BertForSequenceClassification model from a BertForPreTraining model).\n",
      "- This IS NOT expected if you are initializing BertForQuestionAnswering from the checkpoint of a model that you expect to be exactly identical (initializing a BertForSequenceClassification model from a BertForSequenceClassification model).\n"
     ]
    },
    {
     "data": {
      "application/vnd.jupyter.widget-view+json": {
       "model_id": "9fed655bb9ce40e1a8557b55c6627c0b",
       "version_major": 2,
       "version_minor": 0
      },
      "text/plain": [
       "tokenizer_config.json:   0%|          | 0.00/152 [00:00<?, ?B/s]"
      ]
     },
     "metadata": {},
     "output_type": "display_data"
    },
    {
     "data": {
      "application/vnd.jupyter.widget-view+json": {
       "model_id": "c81ccfebc2834082afec334dac999333",
       "version_major": 2,
       "version_minor": 0
      },
      "text/plain": [
       "vocab.txt:   0%|          | 0.00/213k [00:00<?, ?B/s]"
      ]
     },
     "metadata": {},
     "output_type": "display_data"
    },
    {
     "data": {
      "application/vnd.jupyter.widget-view+json": {
       "model_id": "2c53cc4cc4b84e8fa24593355e913627",
       "version_major": 2,
       "version_minor": 0
      },
      "text/plain": [
       "special_tokens_map.json:   0%|          | 0.00/112 [00:00<?, ?B/s]"
      ]
     },
     "metadata": {},
     "output_type": "display_data"
    },
    {
     "data": {
      "application/vnd.jupyter.widget-view+json": {
       "model_id": "c94fb27177ac4550ab0c0997ab3449b7",
       "version_major": 2,
       "version_minor": 0
      },
      "text/plain": [
       "config.json:   0%|          | 0.00/743 [00:00<?, ?B/s]"
      ]
     },
     "metadata": {},
     "output_type": "display_data"
    },
    {
     "data": {
      "application/vnd.jupyter.widget-view+json": {
       "model_id": "4b77f8da899c4ea0a092a9ac93465b01",
       "version_major": 2,
       "version_minor": 0
      },
      "text/plain": [
       "pytorch_model.bin:   0%|          | 0.00/268M [00:00<?, ?B/s]"
      ]
     },
     "metadata": {},
     "output_type": "display_data"
    },
    {
     "data": {
      "application/vnd.jupyter.widget-view+json": {
       "model_id": "b56028df52fd4fc799d9189a43eb6c01",
       "version_major": 2,
       "version_minor": 0
      },
      "text/plain": [
       "tokenizer_config.json:   0%|          | 0.00/351 [00:00<?, ?B/s]"
      ]
     },
     "metadata": {},
     "output_type": "display_data"
    },
    {
     "data": {
      "application/vnd.jupyter.widget-view+json": {
       "model_id": "6158c292b05f4dccb01830a8a4d1980a",
       "version_major": 2,
       "version_minor": 0
      },
      "text/plain": [
       "vocab.txt:   0%|          | 0.00/232k [00:00<?, ?B/s]"
      ]
     },
     "metadata": {},
     "output_type": "display_data"
    },
    {
     "data": {
      "application/vnd.jupyter.widget-view+json": {
       "model_id": "babe79be8f8d40d89a8994b7c5142580",
       "version_major": 2,
       "version_minor": 0
      },
      "text/plain": [
       "tokenizer.json:   0%|          | 0.00/466k [00:00<?, ?B/s]"
      ]
     },
     "metadata": {},
     "output_type": "display_data"
    },
    {
     "data": {
      "application/vnd.jupyter.widget-view+json": {
       "model_id": "c5eeb2fde54f4727acf26d96c3bb0441",
       "version_major": 2,
       "version_minor": 0
      },
      "text/plain": [
       "special_tokens_map.json:   0%|          | 0.00/112 [00:00<?, ?B/s]"
      ]
     },
     "metadata": {},
     "output_type": "display_data"
    }
   ],
   "source": [
    "from transformers import pipeline\n",
    "\n",
    "model_names = ['deepset/roberta-base-squad2', \n",
    "               'distilbert/distilbert-base-cased-distilled-squad', \n",
    "               'deepset/minilm-uncased-squad2',\n",
    "               'deepset/bert-base-cased-squad2',\n",
    "               'Intel/dynamic_tinybert']\n",
    "qa_pipes = {}\n",
    "for model_name in model_names:\n",
    "    qa_pipes[model_name] = pipeline('question-answering', model=model_name)"
   ]
  },
  {
   "cell_type": "code",
   "execution_count": 7,
   "metadata": {},
   "outputs": [],
   "source": [
    "dataset = df.loc[df['title'] == 'Location data of worker bumblebees across an agricultural landscape in Buckinghamshire, UK']\n",
    "context = dataset.iloc[0]['description']"
   ]
  },
  {
   "cell_type": "code",
   "execution_count": 8,
   "metadata": {},
   "outputs": [
    {
     "name": "stdout",
     "output_type": "stream",
     "text": [
      "|                                                  | 0                                | 1                                     | 2                                            |\n",
      "|:-------------------------------------------------|:---------------------------------|:--------------------------------------|:---------------------------------------------|\n",
      "| Question                                         | How was DNA sampling performed?  | Who funded the project?               | Where was the data gathered?                 |\n",
      "| deepset/roberta-base-squad2                      | non-lethally (0.13)              | Centre for Ecology & Hydrology (0.27) | Hillesden Estate, Buckinghamshire, UK (0.16) |\n",
      "| distilbert/distilbert-base-cased-distilled-squad | handheld GPS unit (0.26)         | Insect Pollinators Initiative (0.21)  | Hillesden Estate, Buckinghamshire, UK (0.54) |\n",
      "| deepset/minilm-uncased-squad2                    | non-lethally (0.81)              | Insect Pollinators Initiative (0.62)  | Hillesden Estate, Buckinghamshire, UK (0.24) |\n",
      "| deepset/bert-base-cased-squad2                   | non-lethally (0.80)              | Insect Pollinators Initiative (0.43)  | Hillesden Estate, Buckinghamshire, UK (0.24) |\n",
      "| Intel/dynamic_tinybert                           | using a handheld GPS unit (0.26) | Insect Pollinators Initiative (0.54)  | Hillesden Estate, Buckinghamshire, UK (0.28) |\n"
     ]
    }
   ],
   "source": [
    "import pandas as pd\n",
    "questions = ['How was DNA sampling performed?', 'Who funded the project?', 'Where was the data gathered?']\n",
    "results = pd.DataFrame(columns=['Question'] + model_names)\n",
    "for q in questions:\n",
    "    result = {'Question': q}\n",
    "    for model_name in model_names:\n",
    "        ans = qa_pipes[model_name](q, context)\n",
    "        result[model_name] = f\"{ans['answer']} ({ans['score']:.2f})\"\n",
    "    results = results._append(result, ignore_index=True)\n",
    "print(results.transpose().to_markdown())"
   ]
  },
  {
   "cell_type": "code",
   "execution_count": 9,
   "metadata": {},
   "outputs": [],
   "source": [
    "from transformers import pipeline\n",
    "import pandas as pd\n",
    "gen_model_names = ['google-t5/t5-base', 'allenai/unifiedqa-v2-t5-large-1363200']\n",
    "gen_models = {}\n",
    "for model_name in gen_model_names:\n",
    "    gen_models[model_name] = pipeline('text2text-generation', model=model_name)\n",
    "\n"
   ]
  },
  {
   "cell_type": "code",
   "execution_count": 10,
   "metadata": {},
   "outputs": [
    {
     "name": "stderr",
     "output_type": "stream",
     "text": [
      "/home/mpc/github/discoverability/.venv/lib/python3.12/site-packages/transformers/generation/utils.py:1168: UserWarning: Using the model-agnostic default `max_length` (=20) to control the generation length. We recommend setting `max_new_tokens` to control the maximum length of the generation.\n",
      "  warnings.warn(\n",
      "/home/mpc/github/discoverability/.venv/lib/python3.12/site-packages/transformers/generation/utils.py:1168: UserWarning: Using the model-agnostic default `max_length` (=20) to control the generation length. We recommend setting `max_new_tokens` to control the maximum length of the generation.\n",
      "  warnings.warn(\n",
      "/home/mpc/github/discoverability/.venv/lib/python3.12/site-packages/transformers/generation/utils.py:1168: UserWarning: Using the model-agnostic default `max_length` (=20) to control the generation length. We recommend setting `max_new_tokens` to control the maximum length of the generation.\n",
      "  warnings.warn(\n"
     ]
    },
    {
     "name": "stdout",
     "output_type": "stream",
     "text": [
      "|                                       | 0                               | 1                              | 2                                     |\n",
      "|:--------------------------------------|:--------------------------------|:-------------------------------|:--------------------------------------|\n",
      "| Question                              | How was DNA sampling performed? | Who funded the project?        | Where was the data gathered?          |\n",
      "| google-t5/t5-base                     | non-lethally                    | Insect Pollinators Initiative  | Hillesden Estate, Buckinghamshire, UK |\n",
      "| allenai/unifiedqa-v2-t5-large-1363200 | non-lethally                    | insect pollinators initiative. | the Hillesden Estate                  |\n"
     ]
    }
   ],
   "source": [
    "results = pd.DataFrame(columns=['Question'] + gen_model_names)\n",
    "for q in questions:\n",
    "    result = {'Question': q}\n",
    "    for model_name in gen_model_names:\n",
    "        ans = gen_models[model_name](f'question: {q} context: {context}')\n",
    "        result[model_name] = f\"{ans[0]['generated_text']}\"\n",
    "    results = results._append(result, ignore_index=True)\n",
    "print(results.transpose().to_markdown())"
   ]
  }
 ],
 "metadata": {
  "kernelspec": {
   "display_name": ".venv",
   "language": "python",
   "name": "python3"
  },
  "language_info": {
   "codemirror_mode": {
    "name": "ipython",
    "version": 3
   },
   "file_extension": ".py",
   "mimetype": "text/x-python",
   "name": "python",
   "nbconvert_exporter": "python",
   "pygments_lexer": "ipython3",
   "version": "3.12.3"
  }
 },
 "nbformat": 4,
 "nbformat_minor": 2
}

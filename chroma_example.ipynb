{
 "cells": [
  {
   "cell_type": "code",
   "execution_count": 1,
   "metadata": {},
   "outputs": [],
   "source": [
    "import chromadb\n",
    "client = chromadb.PersistentClient('data/chroma-data')\n",
    "#client = chromadb.HttpClient(host='localhost', port=8000)"
   ]
  },
  {
   "cell_type": "code",
   "execution_count": 2,
   "metadata": {},
   "outputs": [],
   "source": [
    "collection = client.create_collection(name='eidc')"
   ]
  },
  {
   "cell_type": "code",
   "execution_count": 3,
   "metadata": {},
   "outputs": [],
   "source": [
    "from util import load_eidc_data\n",
    "df = load_eidc_data.load_as_df('data/catalogue_metadata.json')\n",
    "df = df.drop_duplicates(subset=['title'])"
   ]
  },
  {
   "cell_type": "code",
   "execution_count": 4,
   "metadata": {},
   "outputs": [
    {
     "name": "stdout",
     "output_type": "stream",
     "text": [
      "1864:1864\n"
     ]
    }
   ],
   "source": [
    "eidc_docs = df['description'].to_list()\n",
    "eidc_ids = df['title'].to_list()\n",
    "print(f'{len(eidc_docs)}:{len(eidc_ids)}')\n"
   ]
  },
  {
   "cell_type": "code",
   "execution_count": 5,
   "metadata": {},
   "outputs": [],
   "source": [
    "collection.add(\n",
    "    documents=eidc_docs,\n",
    "    ids=eidc_ids\n",
    ")"
   ]
  },
  {
   "cell_type": "code",
   "execution_count": 6,
   "metadata": {},
   "outputs": [
    {
     "data": {
      "text/plain": [
       "{'ids': [['The number and individual weight of bumblebees (Bombus terrestris audax) from nests containing neonicotinoids in Wester Ross, UK',\n",
       "   'Abundance of pollinators and diversity of bees in Ghana and the effect of urbanisation and management practices',\n",
       "   'Pollinator visitation data on oilseed rape varieties',\n",
       "   'Bee and flower abundance and diversity and bee pollen foraging data from farms in England',\n",
       "   'Life history, behavioural and morphometric data for queens and workers from an experiment manipulating costs of reproduction in bumble bee queens (Bombus terrestris)']],\n",
       " 'distances': [[0.8135504722595215,\n",
       "   0.8646542429924011,\n",
       "   0.9134924411773682,\n",
       "   0.945340633392334,\n",
       "   0.9663387537002563]],\n",
       " 'metadatas': None,\n",
       " 'embeddings': None,\n",
       " 'documents': None,\n",
       " 'uris': None,\n",
       " 'data': None}"
      ]
     },
     "execution_count": 6,
     "metadata": {},
     "output_type": "execute_result"
    }
   ],
   "source": [
    "results = collection.query(\n",
    "    query_texts=['Where is the wettest soil in the UK?',\n",
    "             'Where is water quality worst in the UK?',\n",
    "             'Where are bird populations declining in the UK?',\n",
    "             'Where in the UK are bumblebees most at risk from neonicotinoids?',\n",
    "             'Which county in the UK has the most rivers?'],\n",
    "    n_results = 5,\n",
    "    include=['distances']\n",
    ")\n",
    "results"
   ]
  }
 ],
 "metadata": {
  "kernelspec": {
   "display_name": ".venv",
   "language": "python",
   "name": "python3"
  },
  "language_info": {
   "codemirror_mode": {
    "name": "ipython",
    "version": 3
   },
   "file_extension": ".py",
   "mimetype": "text/x-python",
   "name": "python",
   "nbconvert_exporter": "python",
   "pygments_lexer": "ipython3",
   "version": "3.12.3"
  }
 },
 "nbformat": 4,
 "nbformat_minor": 2
}

{
 "cells": [
  {
   "cell_type": "code",
   "execution_count": 16,
   "metadata": {},
   "outputs": [],
   "source": [
    "import chromadb\n",
    "client = chromadb.PersistentClient('data/chroma-data')\n",
    "#client = chromadb.HttpClient(host='localhost', port=8000)"
   ]
  },
  {
   "cell_type": "code",
   "execution_count": 17,
   "metadata": {},
   "outputs": [],
   "source": [
    "texts_collection = client.create_collection(name='eidc_texts')\n",
    "sentences_collection = client.create_collection(name='eidc_sentences')"
   ]
  },
  {
   "cell_type": "code",
   "execution_count": 18,
   "metadata": {},
   "outputs": [],
   "source": [
    "from util import load_eidc_data\n",
    "df = load_eidc_data.load_as_df('data/catalogue_metadata.json')\n",
    "df = df.drop_duplicates(subset=['title'])"
   ]
  },
  {
   "cell_type": "code",
   "execution_count": 23,
   "metadata": {},
   "outputs": [
    {
     "name": "stdout",
     "output_type": "stream",
     "text": [
      "11607:11607\n"
     ]
    }
   ],
   "source": [
    "import nltk\n",
    "eidc_sentences = []\n",
    "eidc_sentence_ids = []\n",
    "for i, row in df.iterrows():\n",
    "    sent_count = 0\n",
    "    for sentence in nltk.sent_tokenize(row['description']):\n",
    "        eidc_sentences.append(sentence)\n",
    "        eidc_sentence_ids.append(f\"{row['title']}_{sent_count}\")\n",
    "        sent_count += 1\n",
    "print(f'{len(eidc_sentences)}:{len(eidc_sentence_ids)}')"
   ]
  },
  {
   "cell_type": "code",
   "execution_count": 20,
   "metadata": {},
   "outputs": [
    {
     "name": "stdout",
     "output_type": "stream",
     "text": [
      "1864:1864\n"
     ]
    }
   ],
   "source": [
    "eidc_docs = df['description'].to_list()\n",
    "eidc_ids = df['title'].to_list()\n",
    "print(f'{len(eidc_docs)}:{len(eidc_ids)}')\n"
   ]
  },
  {
   "cell_type": "code",
   "execution_count": 21,
   "metadata": {},
   "outputs": [],
   "source": [
    "texts_collection.add(\n",
    "    documents=eidc_docs,\n",
    "    ids=eidc_ids\n",
    ")"
   ]
  },
  {
   "cell_type": "code",
   "execution_count": 24,
   "metadata": {},
   "outputs": [],
   "source": [
    "sentences_collection.add(\n",
    "    documents=eidc_sentences,\n",
    "    ids=eidc_sentence_ids\n",
    ")"
   ]
  },
  {
   "cell_type": "code",
   "execution_count": 25,
   "metadata": {},
   "outputs": [],
   "source": [
    "queries = ['Where is the wettest soil in the UK?',\n",
    "             'Where is water quality worst in the UK?',\n",
    "             'Where are bird populations declining in the UK?',\n",
    "             'Where in the UK are bumblebees most at risk from neonicotinoids?',\n",
    "             'Which county in the UK has the most rivers?']"
   ]
  },
  {
   "cell_type": "code",
   "execution_count": 26,
   "metadata": {},
   "outputs": [
    {
     "data": {
      "text/plain": [
       "{'ids': [['Topsoil physico-chemical properties from the UKCEH Countryside Survey, Great Britain, 2020, v2',\n",
       "   'Topsoil physico-chemical properties from the UKCEH Countryside Survey, Great Britain, 2021',\n",
       "   'Topsoil physico-chemical properties from the UKCEH Countryside Survey, Great Britain, 2018-2019',\n",
       "   'Topsoil physico-chemical properties from the UKCEH Countryside Survey, Great Britain, 2022',\n",
       "   'Topsoil physico-chemical properties from the UKCEH Countryside Survey, Great Britain, 2019'],\n",
       "  ['Water quality data from the Ribble and Wyre catchments 2008-2010',\n",
       "   'Weekly water quality data from the River Thames and its major tributaries (2009-2017)',\n",
       "   'Weekly water quality data from the River Thames and its major tributaries (2009-2013) [CEH Thames Initiative]',\n",
       "   'Nutrient chemistry data from five rivers receiving sewage effluent in Oxfordshire, England, 2017',\n",
       "   'Thames catchment hydrometric and water quality data 2013-17'],\n",
       "  ['Diet, timing of egg laying and breeding success data for Isle of May European shag population 1985-2015',\n",
       "   'The Isle of May long-term study (IMLOTS) seabird annual breeding success 1982-2012',\n",
       "   'The Isle of May long-term study (IMLOTS) seabird annual breeding success 1982-2016',\n",
       "   'The Isle of May long-term study (IMLOTS) seabird annual breeding success 1982-2021',\n",
       "   'Behaviour, diet, condition and demography data for common guillemots from the Isle of May, 1982-2019'],\n",
       "  ['Location data of worker bumblebees across an agricultural landscape in Buckinghamshire, UK',\n",
       "   'Population responses of honeybees to oilseed rape neonicotinoid seed treatments in Hungary, Germany and the UK',\n",
       "   'The number and individual weight of bumblebees (Bombus terrestris audax) from nests containing neonicotinoids in Wester Ross, UK',\n",
       "   'Microsatellite genotype data for five species of bumblebee across an agricultural landscape in Buckinghamshire, UK',\n",
       "   'Family lineage and landscape quality data for wild bumblebee colonies across an agricultural landscape in Buckinghamshire, U.K.'],\n",
       "  ['Integrated Hydrological Units of the United Kingdom: Groups',\n",
       "   'River Habitat Survey (RHS) data 2007 [Countryside Survey] ',\n",
       "   'River Habitat Survey (RHS) data 1998 [Countryside Survey]',\n",
       "   'Water temperatures for the period 1984 to 2007 at 35 sites on 21 UK rivers',\n",
       "   'Integrated Hydrological Units of the United Kingdom: Catchments']],\n",
       " 'distances': [[0.681643009185791,\n",
       "   0.6909862160682678,\n",
       "   0.6989884376525879,\n",
       "   0.7116051316261292,\n",
       "   0.7430993471210701],\n",
       "  [0.6852468252182007,\n",
       "   0.7634366154670715,\n",
       "   0.8216607578622296,\n",
       "   0.8348584175109863,\n",
       "   0.8490492105484009],\n",
       "  [0.7133334279060364,\n",
       "   0.7505224943161011,\n",
       "   0.7505225260426238,\n",
       "   0.7584667205810547,\n",
       "   0.7742043137550354],\n",
       "  [0.744252622127533,\n",
       "   0.8248523473739624,\n",
       "   0.8857492804527283,\n",
       "   0.8871002793312073,\n",
       "   0.8978992700576782],\n",
       "  [0.7953857779502869,\n",
       "   0.8342145085334778,\n",
       "   0.8403449058532715,\n",
       "   0.8476976752281189,\n",
       "   0.8652535676956177]],\n",
       " 'metadatas': None,\n",
       " 'embeddings': None,\n",
       " 'documents': None,\n",
       " 'uris': None,\n",
       " 'data': None}"
      ]
     },
     "execution_count": 26,
     "metadata": {},
     "output_type": "execute_result"
    }
   ],
   "source": [
    "results = texts_collection.query(\n",
    "    query_texts = queries,\n",
    "    n_results = 5,\n",
    "    include = ['distances']\n",
    ")\n",
    "results"
   ]
  },
  {
   "cell_type": "code",
   "execution_count": 27,
   "metadata": {},
   "outputs": [
    {
     "data": {
      "text/plain": [
       "{'ids': [['Soil physico-chemical properties 2007 [Countryside Survey]\\t_0',\n",
       "   'Daily and sub-daily hydrometeorological and soil data (2013-2023) [COSMOS-UK]_1',\n",
       "   'Daily and sub-daily hydrometeorological and soil data (2013-2022) [COSMOS-UK]_1',\n",
       "   'Daily and sub-daily hydrometeorological and soil data (2013-2019) [COSMOS-UK]_1',\n",
       "   'Daily and sub-daily hydrometeorological and soil data (2013-2018) [COSMOS-UK]_1'],\n",
       "  ['Water quality data from the Ribble and Wyre catchments 2008-2010_0',\n",
       "   'Thames catchment hydrometric and water quality data 2013-17_0',\n",
       "   'Rainfall, throughfall and stemflow for beech and ash stands in temperate English deciduous woodlands_1',\n",
       "   'Faecal indicator data from 54 lakes in Greater Glasgow, Cumbria, and Norfolk, UK, 2016-2017_0',\n",
       "   'Water quality data for the River Frome catchment, Dorset, 1976-2022_0'],\n",
       "  ['UK Environmental Change Network (ECN) common breeding birds data 1971-2007_0',\n",
       "   'UK Environmental Change Network (ECN) bird data: 1995-2015_0',\n",
       "   'UK Environmental Change Network (ECN) bird data: 1995-2012_0',\n",
       "   'Bird ringing records from Wytham Woods, Oxfordshire, UK during 2020 and 2021_1',\n",
       "   'The Isle of May long-term study (IMLOTS) seabird annual breeding success 1982-2016_0'],\n",
       "  ['Location data of worker bumblebees across an agricultural landscape in Buckinghamshire, UK_0',\n",
       "   'Microsatellite genotype data for five species of bumblebee across an agricultural landscape in Buckinghamshire, UK_0',\n",
       "   'Geographic distances between pairs of wild bumblebee colonies across an agricultural landscape in Buckinghamshire, UK_0',\n",
       "   'Family lineage and landscape quality data for wild bumblebee colonies across an agricultural landscape in Buckinghamshire, U.K._0',\n",
       "   'Population responses of honeybees to oilseed rape neonicotinoid seed treatments in Hungary, Germany and the UK_1'],\n",
       "  ['Potential afforestation scenarios based on catchment structure and land cover for twelve catchments in Great Britain for use with the Joint UK Land Environment Simulator (JULES)_3',\n",
       "   'Baseflow chemistry of streams draining rural and agricultural land in the Wolds region of eastern England_0',\n",
       "   'Water quality data from the Ribble and Wyre catchments 2008-2010_0',\n",
       "   'Macroinvertebrates of the river Conwy catchment, UK_1',\n",
       "   'Monthly sampling of riverine chemistry and organic matter for 41 rivers in Great Britain in 2017 as part of the LOCATE project_1']],\n",
       " 'distances': [[0.7056803107261658,\n",
       "   0.7089096307754517,\n",
       "   0.7089096307754517,\n",
       "   0.7089096307754517,\n",
       "   0.7186420559883118],\n",
       "  [0.6503000259399414,\n",
       "   0.7040638327598572,\n",
       "   0.737024188041687,\n",
       "   0.7928137183189392,\n",
       "   0.8029059171676636],\n",
       "  [0.5973114371299744,\n",
       "   0.605746865272522,\n",
       "   0.605746865272522,\n",
       "   0.6453112363815308,\n",
       "   0.7507439255714417],\n",
       "  [0.7183146476745605,\n",
       "   0.8756889700889587,\n",
       "   0.889704704284668,\n",
       "   0.8954975008964539,\n",
       "   0.9020346403121948],\n",
       "  [0.7841416001319885,\n",
       "   0.7918751239776611,\n",
       "   0.8087285161018372,\n",
       "   0.8144637942314148,\n",
       "   0.8177324533462524]],\n",
       " 'metadatas': None,\n",
       " 'embeddings': None,\n",
       " 'documents': None,\n",
       " 'uris': None,\n",
       " 'data': None}"
      ]
     },
     "execution_count": 27,
     "metadata": {},
     "output_type": "execute_result"
    }
   ],
   "source": [
    "results = sentences_collection.query(\n",
    "    query_texts = queries,\n",
    "    n_results = 5,\n",
    "    include = ['distances']\n",
    ")\n",
    "results"
   ]
  },
  {
   "cell_type": "code",
   "execution_count": 30,
   "metadata": {},
   "outputs": [
    {
     "name": "stdout",
     "output_type": "stream",
     "text": [
      "-----------------------------------------------------------------------------------------------------------------------------------------------------------------------------------  --------------------------------------------------------------------------------------------------------------------  -----------------------------------------------------------------------------------------------------------------------  ---------------------------------------------------------------------------------------------------------------------------------  --------------------------------------------------------------------------------------------------------------------------------\n",
      "Soil physico-chemical properties 2007 [Countryside Survey]\t_0                                                                                                                                                                                      Daily and sub-daily hydrometeorological and soil data (2013-2023) [COSMOS-UK]_1                                       Daily and sub-daily hydrometeorological and soil data (2013-2022) [COSMOS-UK]_1                                          Daily and sub-daily hydrometeorological and soil data (2013-2019) [COSMOS-UK]_1                                                    Daily and sub-daily hydrometeorological and soil data (2013-2018) [COSMOS-UK]_1\n",
      "Water quality data from the Ribble and Wyre catchments 2008-2010_0                                                                                                                   Thames catchment hydrometric and water quality data 2013-17_0                                                         Rainfall, throughfall and stemflow for beech and ash stands in temperate English deciduous woodlands_1                   Faecal indicator data from 54 lakes in Greater Glasgow, Cumbria, and Norfolk, UK, 2016-2017_0                                      Water quality data for the River Frome catchment, Dorset, 1976-2022_0\n",
      "UK Environmental Change Network (ECN) common breeding birds data 1971-2007_0                                                                                                         UK Environmental Change Network (ECN) bird data: 1995-2015_0                                                          UK Environmental Change Network (ECN) bird data: 1995-2012_0                                                             Bird ringing records from Wytham Woods, Oxfordshire, UK during 2020 and 2021_1                                                     The Isle of May long-term study (IMLOTS) seabird annual breeding success 1982-2016_0\n",
      "Location data of worker bumblebees across an agricultural landscape in Buckinghamshire, UK_0                                                                                         Microsatellite genotype data for five species of bumblebee across an agricultural landscape in Buckinghamshire, UK_0  Geographic distances between pairs of wild bumblebee colonies across an agricultural landscape in Buckinghamshire, UK_0  Family lineage and landscape quality data for wild bumblebee colonies across an agricultural landscape in Buckinghamshire, U.K._0  Population responses of honeybees to oilseed rape neonicotinoid seed treatments in Hungary, Germany and the UK_1\n",
      "Potential afforestation scenarios based on catchment structure and land cover for twelve catchments in Great Britain for use with the Joint UK Land Environment Simulator (JULES)_3  Baseflow chemistry of streams draining rural and agricultural land in the Wolds region of eastern England_0           Water quality data from the Ribble and Wyre catchments 2008-2010_0                                                       Macroinvertebrates of the river Conwy catchment, UK_1                                                                              Monthly sampling of riverine chemistry and organic matter for 41 rivers in Great Britain in 2017 as part of the LOCATE project_1\n",
      "-----------------------------------------------------------------------------------------------------------------------------------------------------------------------------------  --------------------------------------------------------------------------------------------------------------------  -----------------------------------------------------------------------------------------------------------------------  ---------------------------------------------------------------------------------------------------------------------------------  --------------------------------------------------------------------------------------------------------------------------------\n"
     ]
    }
   ],
   "source": [
    "from tabulate import tabulate\n",
    "md = tabulate(results['ids'])\n",
    "print(md)"
   ]
  }
 ],
 "metadata": {
  "kernelspec": {
   "display_name": ".venv",
   "language": "python",
   "name": "python3"
  },
  "language_info": {
   "codemirror_mode": {
    "name": "ipython",
    "version": 3
   },
   "file_extension": ".py",
   "mimetype": "text/x-python",
   "name": "python",
   "nbconvert_exporter": "python",
   "pygments_lexer": "ipython3",
   "version": "3.12.3"
  }
 },
 "nbformat": 4,
 "nbformat_minor": 2
}

{
 "cells": [
  {
   "cell_type": "code",
   "execution_count": 7,
   "metadata": {},
   "outputs": [],
   "source": [
    "from util import load_eidc_data\n",
    "from sentence_transformers import SentenceTransformer\n",
    "\n",
    "df = load_eidc_data.load_as_df('data/catalogue_metadata.json')"
   ]
  },
  {
   "cell_type": "code",
   "execution_count": 12,
   "metadata": {},
   "outputs": [
    {
     "name": "stdout",
     "output_type": "stream",
     "text": [
      "Building model for paraphrase-albert-small-v2...\n",
      "Creating embeddings...\n",
      "Building model for all-MiniLM-L6-v2...\n",
      "Creating embeddings...\n"
     ]
    }
   ],
   "source": [
    "model_names = ['paraphrase-albert-small-v2', 'all-MiniLM-L6-v2']\n",
    "embedding_models = {}\n",
    "embeddings = {}\n",
    "for model_name in model_names:\n",
    "    print(f'Building model for {model_name}...')\n",
    "    embedding_models[model_name] = SentenceTransformer(model_name)\n",
    "    print('Creating embeddings...')\n",
    "    embeddings[model_name] = embedding_models[model_name].encode(df['description'])\n"
   ]
  },
  {
   "cell_type": "code",
   "execution_count": 13,
   "metadata": {},
   "outputs": [],
   "source": [
    "from scipy import spatial\n",
    "import numpy as np\n",
    "\n",
    "\n",
    "def get_top_n_datasets(query_embedding, datasets, dataset_embeddings, n):\n",
    "    similarity_scores = []\n",
    "    for doc_embedding in dataset_embeddings:\n",
    "        dist = 1 - spatial.distance.cosine(query_embedding, doc_embedding)\n",
    "        similarity_scores.append(dist)\n",
    "    sorted = np.array(similarity_scores).argsort()[::-1][:n]\n",
    "    return datasets.iloc[sorted]"
   ]
  },
  {
   "cell_type": "code",
   "execution_count": 26,
   "metadata": {},
   "outputs": [
    {
     "name": "stdout",
     "output_type": "stream",
     "text": [
      "Where is the wettest soil in the UK?\n",
      "|    | paraphrase-albert-small-v2                                 | all-MiniLM-L6-v2                                                                                |\n",
      "|---:|:-----------------------------------------------------------|:------------------------------------------------------------------------------------------------|\n",
      "|  0 | Soil invertebrate data 2007 [Countryside Survey]           | Topsoil physico-chemical properties from the UKCEH Countryside Survey, Great Britain, 2020, v2  |\n",
      "|  1 | Soil physico-chemical properties 1998 [Countryside Survey] | Topsoil physico-chemical properties from the UKCEH Countryside Survey, Great Britain, 2021      |\n",
      "|  2 | Soil invertebrate data 1998 [Countryside Survey]           | Topsoil physico-chemical properties from the UKCEH Countryside Survey, Great Britain, 2018-2019 |\n",
      "Where is water quality worst in the UK?\n",
      "|    | paraphrase-albert-small-v2                                          | all-MiniLM-L6-v2                                                                                              |\n",
      "|---:|:--------------------------------------------------------------------|:--------------------------------------------------------------------------------------------------------------|\n",
      "|  0 | Water quality data from the Ribble and Wyre catchments 2008-2010    | Water quality data from the Ribble and Wyre catchments 2008-2010                                              |\n",
      "|  1 | Thames catchment hydrometric and water quality data 2013-17         | Weekly water quality data from the River Thames and its major tributaries (2009-2017)                         |\n",
      "|  2 | Water quality data for the River Frome catchment, Dorset, 1976-2022 | Weekly water quality data from the River Thames and its major tributaries (2009-2013) [CEH Thames Initiative] |\n",
      "Where are bird populations declining in the UK?\n",
      "|    | paraphrase-albert-small-v2                                                                                                      | all-MiniLM-L6-v2                                                                                        |\n",
      "|---:|:--------------------------------------------------------------------------------------------------------------------------------|:--------------------------------------------------------------------------------------------------------|\n",
      "|  0 | Annual estimates of occupancy for bryophytes, lichens and invertebrates in the UK (1970-2015)                                   | Diet, timing of egg laying and breeding success data for Isle of May European shag population 1985-2015 |\n",
      "|  1 | UK ecological status map version 2                                                                                              | The Isle of May long-term study (IMLOTS) seabird annual breeding success 1982-2012                      |\n",
      "|  2 | Annual estimates of occupancy for six invertebrate taxa in areas of high, low and no cropland cover in Great Britain, 1990-2019 | The Isle of May long-term study (IMLOTS) seabird annual breeding success 1982-2016                      |\n",
      "Where in the UK are bumblebees most at risk from neonicotinoids?\n",
      "|    | paraphrase-albert-small-v2                                                                                         | all-MiniLM-L6-v2                                                                                                                 |\n",
      "|---:|:-------------------------------------------------------------------------------------------------------------------|:---------------------------------------------------------------------------------------------------------------------------------|\n",
      "|  0 | Location data of worker bumblebees across an agricultural landscape in Buckinghamshire, UK                         | Location data of worker bumblebees across an agricultural landscape in Buckinghamshire, UK                                       |\n",
      "|  1 | Microsatellite genotype data for five species of bumblebee across an agricultural landscape in Buckinghamshire, UK | Population responses of honeybees to oilseed rape neonicotinoid seed treatments in Hungary, Germany and the UK                   |\n",
      "|  2 | Population responses of wild bees to oilseed rape neonicotinoid seed treatments in Hungary, Germany and the UK     | The number and individual weight of bumblebees (Bombus terrestris audax) from nests containing neonicotinoids in Wester Ross, UK |\n",
      "Which county in the UK has the most rivers?\n",
      "|    | paraphrase-albert-small-v2                                                                                    | all-MiniLM-L6-v2                                                        |\n",
      "|---:|:--------------------------------------------------------------------------------------------------------------|:------------------------------------------------------------------------|\n",
      "|  0 | UKCEH digital river network of Great Britain (1:50,000)                                                       | Integrated Hydrological Units of the United Kingdom: Groups             |\n",
      "|  1 | Monthly measurements of major and trace elements in 41 rivers in Great Britain, 2017, from the LOCATE project | Spot gauged flows on the lower River Frome, Dorset, April-November 2022 |\n",
      "|  2 | Gridded (1km) physical river characteristics for the UK v2                                                    | River Habitat Survey (RHS) data 2007 [Countryside Survey]               |\n"
     ]
    }
   ],
   "source": [
    "questions = ['Where is the wettest soil in the UK?',\n",
    "             'Where is water quality worst in the UK?',\n",
    "             'Where are bird populations declining in the UK?',\n",
    "             'Where in the UK are bumblebees most at risk from neonicotinoids?',\n",
    "             'Which county in the UK has the most rivers?']\n",
    "\n",
    "import pandas as pd\n",
    "\n",
    "for q in questions:\n",
    "    print(q)\n",
    "    results = pd.DataFrame(columns=model_names)\n",
    "    for model_name in model_names:\n",
    "        question_embedding = embedding_models[model_name].encode(q)\n",
    "        result = get_top_n_datasets(question_embedding, df, embeddings[model_name], 3)\n",
    "        result.index = pd.RangeIndex(len(result))\n",
    "        results[model_name] = result['title']\n",
    "    print(results.to_markdown())"
   ]
  }
 ],
 "metadata": {
  "kernelspec": {
   "display_name": ".venv",
   "language": "python",
   "name": "python3"
  },
  "language_info": {
   "codemirror_mode": {
    "name": "ipython",
    "version": 3
   },
   "file_extension": ".py",
   "mimetype": "text/x-python",
   "name": "python",
   "nbconvert_exporter": "python",
   "pygments_lexer": "ipython3",
   "version": "3.12.3"
  }
 },
 "nbformat": 4,
 "nbformat_minor": 2
}

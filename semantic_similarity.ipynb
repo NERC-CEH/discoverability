{
 "cells": [
  {
   "cell_type": "code",
   "execution_count": 2,
   "metadata": {},
   "outputs": [],
   "source": [
    "from util import load_eidc_data\n",
    "from sentence_transformers import SentenceTransformer\n",
    "\n",
    "df = load_eidc_data.load_as_df('data/catalogue_metadata.json')"
   ]
  },
  {
   "cell_type": "code",
   "execution_count": 3,
   "metadata": {},
   "outputs": [
    {
     "name": "stdout",
     "output_type": "stream",
     "text": [
      "Building model for paraphrase-MiniLM-L3-v2...\n"
     ]
    },
    {
     "name": "stderr",
     "output_type": "stream",
     "text": [
      "/home/mpc/github/discoverability/.venv/lib/python3.12/site-packages/huggingface_hub/file_download.py:1132: FutureWarning: `resume_download` is deprecated and will be removed in version 1.0.0. Downloads always resume when possible. If you want to force a new download, use `force_download=True`.\n",
      "  warnings.warn(\n"
     ]
    },
    {
     "name": "stdout",
     "output_type": "stream",
     "text": [
      "Creating embeddings...\n",
      "Building model for all-MiniLM-L6-v2...\n",
      "Creating embeddings...\n",
      "Building model for multi-qa-MiniLM-L6-cos-v1...\n",
      "Creating embeddings...\n"
     ]
    }
   ],
   "source": [
    "model_names = ['paraphrase-MiniLM-L3-v2', 'all-MiniLM-L6-v2', 'multi-qa-MiniLM-L6-cos-v1']\n",
    "embedding_models = {}\n",
    "embeddings = {}\n",
    "for model_name in model_names:\n",
    "    print(f'Building model for {model_name}...')\n",
    "    embedding_models[model_name] = SentenceTransformer(model_name)\n",
    "    print('Creating embeddings...')\n",
    "    embeddings[model_name] = embedding_models[model_name].encode(df['description'])\n"
   ]
  },
  {
   "cell_type": "code",
   "execution_count": 4,
   "metadata": {},
   "outputs": [],
   "source": [
    "from scipy import spatial\n",
    "import numpy as np\n",
    "\n",
    "\n",
    "def get_top_n_datasets(query_embedding, datasets, dataset_embeddings, n):\n",
    "    similarity_scores = []\n",
    "    for doc_embedding in dataset_embeddings:\n",
    "        dist = 1 - spatial.distance.cosine(query_embedding, doc_embedding)\n",
    "        similarity_scores.append(dist)\n",
    "    sorted = np.array(similarity_scores).argsort()[::-1][:n]\n",
    "    return datasets.iloc[sorted]"
   ]
  },
  {
   "cell_type": "code",
   "execution_count": 5,
   "metadata": {},
   "outputs": [
    {
     "name": "stdout",
     "output_type": "stream",
     "text": [
      "Where is the wettest soil in the UK?\n"
     ]
    },
    {
     "name": "stdout",
     "output_type": "stream",
     "text": [
      "|    | paraphrase-MiniLM-L3-v2                                                 | all-MiniLM-L6-v2                                                                                | multi-qa-MiniLM-L6-cos-v1                                                                                                                   |\n",
      "|---:|:------------------------------------------------------------------------|:------------------------------------------------------------------------------------------------|:--------------------------------------------------------------------------------------------------------------------------------------------|\n",
      "|  0 | Soil physico-chemical properties from eight UK agricultural sites, 2022 | Topsoil physico-chemical properties from the UKCEH Countryside Survey, Great Britain, 2020, v2  | Hydraulic and hydrological data from surface and subsurface soils across the Thames catchment, UK, 2021                                     |\n",
      "|  1 | Soil physico-chemical properties 1978 [Countryside Survey]              | Topsoil physico-chemical properties from the UKCEH Countryside Survey, Great Britain, 2021      | Soil water release curves and hydraulic conductivity measurements at four long-term grassland-to-woodland land use contrasts across England |\n",
      "|  2 | Soil physico-chemical properties 2007 [Countryside Survey]              | Topsoil physico-chemical properties from the UKCEH Countryside Survey, Great Britain, 2018-2019 | Topsoil physico-chemical properties from the UKCEH Countryside Survey, Great Britain, 2022                                                  |\n",
      "Where is water quality worst in the UK?\n",
      "|    | paraphrase-MiniLM-L3-v2                                                                                   | all-MiniLM-L6-v2                                                                                              | multi-qa-MiniLM-L6-cos-v1                                        |\n",
      "|---:|:----------------------------------------------------------------------------------------------------------|:--------------------------------------------------------------------------------------------------------------|:-----------------------------------------------------------------|\n",
      "|  0 | Baseflow chemistry of streams draining rural and agricultural land in the Wolds region of eastern England | Water quality data from the Ribble and Wyre catchments 2008-2010                                              | Thames catchment hydrometric and water quality data 2013-17      |\n",
      "|  1 | Thames catchment hydrometric and water quality data 2013-17                                               | Weekly water quality data from the River Thames and its major tributaries (2009-2017)                         | Water quality data from the Ribble and Wyre catchments 2008-2010 |\n",
      "|  2 | Water quality data from the Ribble and Wyre catchments 2008-2010                                          | Weekly water quality data from the River Thames and its major tributaries (2009-2013) [CEH Thames Initiative] | Conwy catchment - spatial water chemistry dataset                |\n",
      "Where are bird populations declining in the UK?\n",
      "|    | paraphrase-MiniLM-L3-v2                                                                   | all-MiniLM-L6-v2                                                                                        | multi-qa-MiniLM-L6-cos-v1                                                                               |\n",
      "|---:|:------------------------------------------------------------------------------------------|:--------------------------------------------------------------------------------------------------------|:--------------------------------------------------------------------------------------------------------|\n",
      "|  0 | Avian data from the South Fork McKenzie River in Oregon, USA after a wildfire event, 2021 | Diet, timing of egg laying and breeding success data for Isle of May European shag population 1985-2015 | UK Environmental Change Network (ECN) common breeding birds data 1971-2007                              |\n",
      "|  1 | UK Environmental Change Network (ECN) common breeding birds data 1971-2007                | The Isle of May long-term study (IMLOTS) seabird annual breeding success 1982-2012                      | Diet, timing of egg laying and breeding success data for Isle of May European shag population 1985-2015 |\n",
      "|  2 | UK Environmental Change Network (ECN) bird data: 1995-2012                                | The Isle of May long-term study (IMLOTS) seabird annual breeding success 1982-2016                      | UK Environmental Change Network (ECN) bird data: 1995-2012                                              |\n",
      "Where in the UK are bumblebees most at risk from neonicotinoids?\n",
      "|    | paraphrase-MiniLM-L3-v2                                                                                        | all-MiniLM-L6-v2                                                                                                                 | multi-qa-MiniLM-L6-cos-v1                                                                                      |\n",
      "|---:|:---------------------------------------------------------------------------------------------------------------|:---------------------------------------------------------------------------------------------------------------------------------|:---------------------------------------------------------------------------------------------------------------|\n",
      "|  0 | Population responses of honeybees to oilseed rape neonicotinoid seed treatments in Hungary, Germany and the UK | Location data of worker bumblebees across an agricultural landscape in Buckinghamshire, UK                                       | Population responses of wild bees to oilseed rape neonicotinoid seed treatments in Hungary, Germany and the UK |\n",
      "|  1 | Population responses of wild bees to oilseed rape neonicotinoid seed treatments in Hungary, Germany and the UK | Population responses of honeybees to oilseed rape neonicotinoid seed treatments in Hungary, Germany and the UK                   | Invasive and native bumblebee abundance along a latitudinal gradient within Argentina and Chile, 2019-2020     |\n",
      "|  2 | Invasive and native bumblebee abundance along a latitudinal gradient within Argentina and Chile, 2019-2020     | The number and individual weight of bumblebees (Bombus terrestris audax) from nests containing neonicotinoids in Wester Ross, UK | Population responses of honeybees to oilseed rape neonicotinoid seed treatments in Hungary, Germany and the UK |\n",
      "Which county in the UK has the most rivers?\n",
      "|    | paraphrase-MiniLM-L3-v2                                                    | all-MiniLM-L6-v2                                                        | multi-qa-MiniLM-L6-cos-v1                                               |\n",
      "|---:|:---------------------------------------------------------------------------|:------------------------------------------------------------------------|:------------------------------------------------------------------------|\n",
      "|  0 | Water temperatures for the period 1984 to 2007 at 35 sites on 21 UK rivers | Integrated Hydrological Units of the United Kingdom: Groups             | Spot gauged flows on the lower River Frome, Dorset, April-November 2022 |\n",
      "|  1 | Plynlimon research catchments: river network                               | Spot gauged flows on the lower River Frome, Dorset, April-November 2022 | Hydraulics data for the River Lambourn at Boxford, 2008 to 2014         |\n",
      "|  2 | Thames catchment hydrometric and water quality data 2013-17                | River Habitat Survey (RHS) data 2007 [Countryside Survey]               | Gridded (1km) physical river characteristics for the UK v2              |\n"
     ]
    }
   ],
   "source": [
    "questions = ['Where is the wettest soil in the UK?',\n",
    "             'Where is water quality worst in the UK?',\n",
    "             'Where are bird populations declining in the UK?',\n",
    "             'Where in the UK are bumblebees most at risk from neonicotinoids?',\n",
    "             'Which county in the UK has the most rivers?']\n",
    "\n",
    "import pandas as pd\n",
    "\n",
    "for q in questions:\n",
    "    print(q)\n",
    "    results = pd.DataFrame(columns=model_names)\n",
    "    for model_name in model_names:\n",
    "        question_embedding = embedding_models[model_name].encode(q)\n",
    "        result = get_top_n_datasets(question_embedding, df, embeddings[model_name], 3)\n",
    "        result.index = pd.RangeIndex(len(result))\n",
    "        results[model_name] = result['title']\n",
    "    print(results.to_markdown())"
   ]
  }
 ],
 "metadata": {
  "kernelspec": {
   "display_name": ".venv",
   "language": "python",
   "name": "python3"
  },
  "language_info": {
   "codemirror_mode": {
    "name": "ipython",
    "version": 3
   },
   "file_extension": ".py",
   "mimetype": "text/x-python",
   "name": "python",
   "nbconvert_exporter": "python",
   "pygments_lexer": "ipython3",
   "version": "3.12.3"
  }
 },
 "nbformat": 4,
 "nbformat_minor": 2
}

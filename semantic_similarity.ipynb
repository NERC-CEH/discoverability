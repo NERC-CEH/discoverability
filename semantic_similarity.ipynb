{
 "cells": [
  {
   "cell_type": "code",
   "execution_count": 3,
   "metadata": {},
   "outputs": [
    {
     "name": "stderr",
     "output_type": "stream",
     "text": [
      "/home/mpc/github/discoverability/.venv/lib/python3.12/site-packages/sentence_transformers/cross_encoder/CrossEncoder.py:11: TqdmWarning: IProgress not found. Please update jupyter and ipywidgets. See https://ipywidgets.readthedocs.io/en/stable/user_install.html\n",
      "  from tqdm.autonotebook import tqdm, trange\n"
     ]
    }
   ],
   "source": [
    "from util import load_eidc_data\n",
    "from sentence_transformers import SentenceTransformer\n",
    "\n",
    "df = load_eidc_data.load_as_df('data/catalogue_metadata.json')"
   ]
  },
  {
   "cell_type": "code",
   "execution_count": 4,
   "metadata": {},
   "outputs": [
    {
     "name": "stderr",
     "output_type": "stream",
     "text": [
      "/home/mpc/github/discoverability/.venv/lib/python3.12/site-packages/huggingface_hub/file_download.py:1132: FutureWarning: `resume_download` is deprecated and will be removed in version 1.0.0. Downloads always resume when possible. If you want to force a new download, use `force_download=True`.\n",
      "  warnings.warn(\n"
     ]
    }
   ],
   "source": [
    "\n",
    "embedding_model = SentenceTransformer('all-MiniLM-L6-v2')\n",
    "embeddings = embedding_model.encode(df['description'])"
   ]
  },
  {
   "cell_type": "code",
   "execution_count": 8,
   "metadata": {},
   "outputs": [],
   "source": [
    "from scipy import spatial\n",
    "import numpy as np\n",
    "\n",
    "\n",
    "def get_top_n_datasets(query_embedding, datasets, dataset_embeddings, n):\n",
    "    similarity_scores = []\n",
    "    for doc_embedding in dataset_embeddings:\n",
    "        dist = 1 - spatial.distance.cosine(query_embedding, doc_embedding)\n",
    "        similarity_scores.append(dist)\n",
    "    sorted = np.array(similarity_scores).argsort()[::-1][:n]\n",
    "    return datasets.iloc[sorted]"
   ]
  },
  {
   "cell_type": "code",
   "execution_count": 10,
   "metadata": {},
   "outputs": [
    {
     "name": "stdout",
     "output_type": "stream",
     "text": [
      "Where is the wettest soil in the UK?\n",
      "157     Topsoil physico-chemical properties from the U...\n",
      "236     Topsoil physico-chemical properties from the U...\n",
      "1294    Topsoil physico-chemical properties from the U...\n",
      "Name: title, dtype: object\n",
      "Where is water quality worst in the UK?\n",
      "290     Water quality data from the Ribble and Wyre ca...\n",
      "305     Weekly water quality data from the River Thame...\n",
      "1802    Weekly water quality data from the River Thame...\n",
      "Name: title, dtype: object\n",
      "Where are bird populations declining in the UK?\n",
      "184     Diet, timing of egg laying and breeding succes...\n",
      "1772    The Isle of May long-term study (IMLOTS) seabi...\n",
      "1824    The Isle of May long-term study (IMLOTS) seabi...\n",
      "Name: title, dtype: object\n",
      "Where in the UK are bumblebees most at risk from neonicotinoids?\n",
      "341     Location data of worker bumblebees across an a...\n",
      "1755    Population responses of honeybees to oilseed r...\n",
      "1436    The number and individual weight of bumblebees...\n",
      "Name: title, dtype: object\n",
      "Which county in the UK has the most rivers?\n",
      "791     Integrated Hydrological Units of the United Ki...\n",
      "737     Spot gauged flows on the lower River Frome, Do...\n",
      "1569    River Habitat Survey (RHS) data 2007 [Countrys...\n",
      "Name: title, dtype: object\n"
     ]
    }
   ],
   "source": [
    "questions = ['Where is the wettest soil in the UK?',\n",
    "             'Where is water quality worst in the UK?',\n",
    "             'Where are bird populations declining in the UK?',\n",
    "             'Where in the UK are bumblebees most at risk from neonicotinoids?',\n",
    "             'Which county in the UK has the most rivers?']\n",
    "\n",
    "for q in questions:\n",
    "    print(q)\n",
    "    embedding = embedding_model.encode(q)\n",
    "    result = get_top_n_datasets(embedding, df, embeddings, 3)\n",
    "    print(result.to_markdown())"
   ]
  }
 ],
 "metadata": {
  "kernelspec": {
   "display_name": ".venv",
   "language": "python",
   "name": "python3"
  },
  "language_info": {
   "codemirror_mode": {
    "name": "ipython",
    "version": 3
   },
   "file_extension": ".py",
   "mimetype": "text/x-python",
   "name": "python",
   "nbconvert_exporter": "python",
   "pygments_lexer": "ipython3",
   "version": "3.12.3"
  }
 },
 "nbformat": 4,
 "nbformat_minor": 2
}
